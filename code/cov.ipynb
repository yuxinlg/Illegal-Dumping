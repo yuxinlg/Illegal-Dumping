{
 "cells": [
  {
   "cell_type": "markdown",
   "metadata": {},
   "source": [
    "## Vacant Block Percent Land"
   ]
  },
  {
   "cell_type": "code",
   "execution_count": null,
   "metadata": {
    "vscode": {
     "languageId": "plaintext"
    }
   },
   "outputs": [],
   "source": [
    "## load data\n",
    "vacant_block = gpd.read_file('data/Vacant_Block_Percent_Land.geojson')"
   ]
  },
  {
   "cell_type": "code",
   "execution_count": null,
   "metadata": {
    "vscode": {
     "languageId": "plaintext"
    }
   },
   "outputs": [],
   "source": [
    "sns.kdeplot(vacant_block['PARCELCOUNT'])"
   ]
  },
  {
   "cell_type": "code",
   "execution_count": null,
   "metadata": {
    "vscode": {
     "languageId": "plaintext"
    }
   },
   "outputs": [],
   "source": [
    "vacant_block.plot()"
   ]
  },
  {
   "cell_type": "code",
   "execution_count": null,
   "metadata": {
    "vscode": {
     "languageId": "plaintext"
    }
   },
   "outputs": [],
   "source": [
    "## aggregate by block group\n",
    "\n",
    "# align the crs\n",
    "vacant_block = vacant_block.to_crs(philly_2023.crs)\n",
    "\n",
    "# check if the vacant block is fully contained in the philly 2023\n",
    "vacant_block['fully_contained'] = vacant_block.geometry.apply(\n",
    "    lambda geom: philly_2023.contains(geom).any()\n",
    ")\n"
   ]
  },
  {
   "cell_type": "code",
   "execution_count": null,
   "metadata": {
    "vscode": {
     "languageId": "plaintext"
    }
   },
   "outputs": [],
   "source": [
    "# Initialize a column to store the ID of the philly_2023 polygon assigned to each source polygon\n",
    "vacant_block['assigned_philly_id'] = np.nan\n",
    "\n",
    "# Iterate over source polygons\n",
    "for idx, row in vacant_block.iterrows():\n",
    "    geom = row.geometry\n",
    "    \n",
    "    # Check if fully contained\n",
    "    containing = philly_2023[philly_2023.contains(geom)]\n",
    "    if not containing.empty:\n",
    "        vacant_block.at[idx, 'assigned_philly_id'] = containing.iloc[0].name\n",
    "    else:\n",
    "        # Calculate overlaps\n",
    "        overlaps = philly_2023[philly_2023.intersects(geom)].copy()\n",
    "        if not overlaps.empty:\n",
    "            overlaps['intersection_area'] = overlaps.geometry.intersection(geom).area\n",
    "            overlap_frac = overlaps['intersection_area'] / geom.area\n",
    "            max_overlap = overlap_frac.max()\n",
    "            if max_overlap > 0.5:\n",
    "                assigned_id = overlaps.loc[overlap_frac.idxmax()].name\n",
    "                vacant_block.at[idx, 'assigned_philly_id'] = assigned_id"
   ]
  },
  {
   "cell_type": "code",
   "execution_count": null,
   "metadata": {
    "vscode": {
     "languageId": "plaintext"
    }
   },
   "outputs": [],
   "source": [
    "vacant_block = vacant_block.dropna(subset=['assigned_philly_id'])\n",
    "vacant_block['assigned_philly_id'] = vacant_block['assigned_philly_id'].astype(int)\n",
    "\n",
    "# Sum LANDVACCOUNT by assigned philly_2023 polygon\n",
    "aggregated = vacant_block.groupby('assigned_philly_id')['LANDVACCOUNT'].sum()\n",
    "\n",
    "# copy philly_2023\n",
    "philly_2023_copy = philly_2023.copy()\n",
    "\n",
    "# Merge back into philly_2023_gdf\n",
    "philly_2023_copy['LANDVACCOUNT_sum'] = philly_2023_copy.index.map(aggregated).fillna(0)"
   ]
  },
  {
   "cell_type": "code",
   "execution_count": null,
   "metadata": {
    "vscode": {
     "languageId": "plaintext"
    }
   },
   "outputs": [],
   "source": [
    "philly_2023_copy.head()"
   ]
  },
  {
   "cell_type": "code",
   "execution_count": null,
   "metadata": {
    "vscode": {
     "languageId": "plaintext"
    }
   },
   "outputs": [],
   "source": [
    "sns.kdeplot(philly_2023_copy['LANDVACCOUNT_sum'])"
   ]
  },
  {
   "cell_type": "code",
   "execution_count": null,
   "metadata": {
    "vscode": {
     "languageId": "plaintext"
    }
   },
   "outputs": [],
   "source": [
    "# load colormap\n",
    "cmap = sns.cubehelix_palette(as_cmap=True)\n",
    "#cmap = plt.cm.BuGn\n",
    "\n",
    "norm = colors.Normalize(vmin=0, vmax=philly_2023_copy['LANDVACCOUNT_sum'].max())\n",
    "\n",
    "\n",
    "# initialize the figure\n",
    "fig, ax = plt.subplots(figsize=(7, 7))\n",
    "\n",
    "# create the plot\n",
    "philly_2023_copy.plot(ax=ax, column='LANDVACCOUNT_sum', cmap=cmap, edgecolor='gray', linewidth=0.5, alpha = 0.8,  legend=True)\n",
    "\n"
   ]
  },
  {
   "cell_type": "code",
   "execution_count": null,
   "metadata": {
    "vscode": {
     "languageId": "plaintext"
    }
   },
   "outputs": [],
   "source": []
  }
 ],
 "metadata": {
  "language_info": {
   "name": "python"
  }
 },
 "nbformat": 4,
 "nbformat_minor": 2
}
